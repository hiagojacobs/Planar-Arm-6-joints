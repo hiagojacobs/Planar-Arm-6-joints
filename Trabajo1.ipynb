{
  "nbformat": 4,
  "nbformat_minor": 0,
  "metadata": {
    "colab": {
      "provenance": [],
      "include_colab_link": true
    },
    "kernelspec": {
      "name": "python3",
      "display_name": "Python 3"
    },
    "language_info": {
      "name": "python"
    }
  },
  "cells": [
    {
      "cell_type": "markdown",
      "metadata": {
        "id": "view-in-github",
        "colab_type": "text"
      },
      "source": [
        "<a href=\"https://colab.research.google.com/github/hiagojacobs/Planar-Arm-6-joints/blob/main/Trabajo1.ipynb\" target=\"_parent\"><img src=\"https://colab.research.google.com/assets/colab-badge.svg\" alt=\"Open In Colab\"/></a>"
      ]
    },
    {
      "cell_type": "markdown",
      "source": [
        "#Trabajo 1 - Cinemática Inversa Planar Arm 6 articulaciones\n",
        "\n",
        "\n"
      ],
      "metadata": {
        "id": "VjzxxrxTtCEp"
      }
    },
    {
      "cell_type": "code",
      "source": [
        "import numpy as np\n",
        "from sympy import *\n",
        "import math\n",
        "\n",
        "np.set_printoptions(suppress=True)"
      ],
      "metadata": {
        "id": "f-Gl3lPItCFE"
      },
      "execution_count": 1,
      "outputs": []
    },
    {
      "cell_type": "code",
      "source": [
        "#cinematica direta\n",
        "\n",
        "theta1 = Symbol(\"theta1\")\n",
        "theta2 = Symbol(\"theta2\")\n",
        "theta3 = Symbol(\"theta3\")\n",
        "theta4 = Symbol(\"theta4\")\n",
        "theta5 = Symbol(\"theta5\")\n",
        "theta6 = Symbol(\"theta6\")\n",
        "\n",
        "l1 = Symbol(\"l1\")\n",
        "l2 = Symbol(\"l2\")\n",
        "l3 = Symbol(\"l3\")\n",
        "l4 = Symbol(\"l4\")\n",
        "l5 = Symbol(\"l5\")\n",
        "l6 = Symbol(\"l6\")\n",
        "\n",
        "T1 = Matrix([ [cos(theta1), -sin(theta1), 0, l1*cos(theta1)],\n",
        "              [sin(theta1), cos(theta1), 0, l1*sin(theta1)],\n",
        "              [0, 0, 1, 0],\n",
        "              [0, 0, 0, 1]\n",
        "            ])\n",
        "\n",
        "T2 = Matrix([ [cos(theta2), -sin(theta2), 0, l2*cos(theta2)],\n",
        "              [sin(theta2), cos(theta2), 0, l2*sin(theta2)],\n",
        "              [0, 0, 1, 0],\n",
        "              [0, 0, 0, 1]\n",
        "            ])\n",
        "T3 = Matrix([ [cos(theta3), -sin(theta3), 0, l3*cos(theta3)],\n",
        "              [sin(theta3), cos(theta3), 0, l3*sin(theta3)],\n",
        "              [0, 0, 1, 0],\n",
        "              [0, 0, 0, 1]\n",
        "            ])\n",
        "\n",
        "T4 = Matrix([ [cos(theta4), -sin(theta4), 0, l4*cos(theta4)],\n",
        "              [sin(theta4), cos(theta4), 0, l4*sin(theta4)],\n",
        "              [0, 0, 1, 0],\n",
        "              [0, 0, 0, 1]\n",
        "            ])\n",
        "T5 = Matrix([ [cos(theta5), -sin(theta5), 0, l5*cos(theta5)],\n",
        "              [sin(theta5), cos(theta5), 0, l5*sin(theta5)],\n",
        "              [0, 0, 1, 0],\n",
        "              [0, 0, 0, 1]\n",
        "            ])\n",
        "T6 = Matrix([ [cos(theta6), -sin(theta6), 0, l6*cos(theta6)],\n",
        "              [sin(theta6), cos(theta6), 0, l6*sin(theta6)],\n",
        "              [0, 0, 1, 0],\n",
        "              [0, 0, 0, 1]\n",
        "            ])\n",
        "\n",
        "\n",
        "T = T1*T2*T3*T4*T5*T6\n",
        "\n",
        "print(T[3])\n",
        "print(T[7])\n"
      ],
      "metadata": {
        "colab": {
          "base_uri": "https://localhost:8080/"
        },
        "outputId": "a051d90b-d9ba-4235-9506-cd33a67e77a3",
        "id": "CzRbHAZYtCFF"
      },
      "execution_count": 2,
      "outputs": [
        {
          "output_type": "stream",
          "name": "stdout",
          "text": [
            "l1*cos(theta1) - l2*sin(theta1)*sin(theta2) + l2*cos(theta1)*cos(theta2) + l3*(-sin(theta1)*sin(theta2) + cos(theta1)*cos(theta2))*cos(theta3) + l3*(-sin(theta1)*cos(theta2) - sin(theta2)*cos(theta1))*sin(theta3) + l4*(-(-sin(theta1)*sin(theta2) + cos(theta1)*cos(theta2))*sin(theta3) + (-sin(theta1)*cos(theta2) - sin(theta2)*cos(theta1))*cos(theta3))*sin(theta4) + l4*((-sin(theta1)*sin(theta2) + cos(theta1)*cos(theta2))*cos(theta3) + (-sin(theta1)*cos(theta2) - sin(theta2)*cos(theta1))*sin(theta3))*cos(theta4) + l5*((-(-sin(theta1)*sin(theta2) + cos(theta1)*cos(theta2))*sin(theta3) + (-sin(theta1)*cos(theta2) - sin(theta2)*cos(theta1))*cos(theta3))*sin(theta4) + ((-sin(theta1)*sin(theta2) + cos(theta1)*cos(theta2))*cos(theta3) + (-sin(theta1)*cos(theta2) - sin(theta2)*cos(theta1))*sin(theta3))*cos(theta4))*cos(theta5) + l5*((-(-sin(theta1)*sin(theta2) + cos(theta1)*cos(theta2))*sin(theta3) + (-sin(theta1)*cos(theta2) - sin(theta2)*cos(theta1))*cos(theta3))*cos(theta4) - ((-sin(theta1)*sin(theta2) + cos(theta1)*cos(theta2))*cos(theta3) + (-sin(theta1)*cos(theta2) - sin(theta2)*cos(theta1))*sin(theta3))*sin(theta4))*sin(theta5) + l6*(-((-(-sin(theta1)*sin(theta2) + cos(theta1)*cos(theta2))*sin(theta3) + (-sin(theta1)*cos(theta2) - sin(theta2)*cos(theta1))*cos(theta3))*sin(theta4) + ((-sin(theta1)*sin(theta2) + cos(theta1)*cos(theta2))*cos(theta3) + (-sin(theta1)*cos(theta2) - sin(theta2)*cos(theta1))*sin(theta3))*cos(theta4))*sin(theta5) + ((-(-sin(theta1)*sin(theta2) + cos(theta1)*cos(theta2))*sin(theta3) + (-sin(theta1)*cos(theta2) - sin(theta2)*cos(theta1))*cos(theta3))*cos(theta4) - ((-sin(theta1)*sin(theta2) + cos(theta1)*cos(theta2))*cos(theta3) + (-sin(theta1)*cos(theta2) - sin(theta2)*cos(theta1))*sin(theta3))*sin(theta4))*cos(theta5))*sin(theta6) + l6*(((-(-sin(theta1)*sin(theta2) + cos(theta1)*cos(theta2))*sin(theta3) + (-sin(theta1)*cos(theta2) - sin(theta2)*cos(theta1))*cos(theta3))*sin(theta4) + ((-sin(theta1)*sin(theta2) + cos(theta1)*cos(theta2))*cos(theta3) + (-sin(theta1)*cos(theta2) - sin(theta2)*cos(theta1))*sin(theta3))*cos(theta4))*cos(theta5) + ((-(-sin(theta1)*sin(theta2) + cos(theta1)*cos(theta2))*sin(theta3) + (-sin(theta1)*cos(theta2) - sin(theta2)*cos(theta1))*cos(theta3))*cos(theta4) - ((-sin(theta1)*sin(theta2) + cos(theta1)*cos(theta2))*cos(theta3) + (-sin(theta1)*cos(theta2) - sin(theta2)*cos(theta1))*sin(theta3))*sin(theta4))*sin(theta5))*cos(theta6)\n",
            "l1*sin(theta1) + l2*sin(theta1)*cos(theta2) + l2*sin(theta2)*cos(theta1) + l3*(-sin(theta1)*sin(theta2) + cos(theta1)*cos(theta2))*sin(theta3) + l3*(sin(theta1)*cos(theta2) + sin(theta2)*cos(theta1))*cos(theta3) + l4*((-sin(theta1)*sin(theta2) + cos(theta1)*cos(theta2))*sin(theta3) + (sin(theta1)*cos(theta2) + sin(theta2)*cos(theta1))*cos(theta3))*cos(theta4) + l4*((-sin(theta1)*sin(theta2) + cos(theta1)*cos(theta2))*cos(theta3) - (sin(theta1)*cos(theta2) + sin(theta2)*cos(theta1))*sin(theta3))*sin(theta4) + l5*(-((-sin(theta1)*sin(theta2) + cos(theta1)*cos(theta2))*sin(theta3) + (sin(theta1)*cos(theta2) + sin(theta2)*cos(theta1))*cos(theta3))*sin(theta4) + ((-sin(theta1)*sin(theta2) + cos(theta1)*cos(theta2))*cos(theta3) - (sin(theta1)*cos(theta2) + sin(theta2)*cos(theta1))*sin(theta3))*cos(theta4))*sin(theta5) + l5*(((-sin(theta1)*sin(theta2) + cos(theta1)*cos(theta2))*sin(theta3) + (sin(theta1)*cos(theta2) + sin(theta2)*cos(theta1))*cos(theta3))*cos(theta4) + ((-sin(theta1)*sin(theta2) + cos(theta1)*cos(theta2))*cos(theta3) - (sin(theta1)*cos(theta2) + sin(theta2)*cos(theta1))*sin(theta3))*sin(theta4))*cos(theta5) + l6*((-((-sin(theta1)*sin(theta2) + cos(theta1)*cos(theta2))*sin(theta3) + (sin(theta1)*cos(theta2) + sin(theta2)*cos(theta1))*cos(theta3))*sin(theta4) + ((-sin(theta1)*sin(theta2) + cos(theta1)*cos(theta2))*cos(theta3) - (sin(theta1)*cos(theta2) + sin(theta2)*cos(theta1))*sin(theta3))*cos(theta4))*sin(theta5) + (((-sin(theta1)*sin(theta2) + cos(theta1)*cos(theta2))*sin(theta3) + (sin(theta1)*cos(theta2) + sin(theta2)*cos(theta1))*cos(theta3))*cos(theta4) + ((-sin(theta1)*sin(theta2) + cos(theta1)*cos(theta2))*cos(theta3) - (sin(theta1)*cos(theta2) + sin(theta2)*cos(theta1))*sin(theta3))*sin(theta4))*cos(theta5))*cos(theta6) + l6*((-((-sin(theta1)*sin(theta2) + cos(theta1)*cos(theta2))*sin(theta3) + (sin(theta1)*cos(theta2) + sin(theta2)*cos(theta1))*cos(theta3))*sin(theta4) + ((-sin(theta1)*sin(theta2) + cos(theta1)*cos(theta2))*cos(theta3) - (sin(theta1)*cos(theta2) + sin(theta2)*cos(theta1))*sin(theta3))*cos(theta4))*cos(theta5) - (((-sin(theta1)*sin(theta2) + cos(theta1)*cos(theta2))*sin(theta3) + (sin(theta1)*cos(theta2) + sin(theta2)*cos(theta1))*cos(theta3))*cos(theta4) + ((-sin(theta1)*sin(theta2) + cos(theta1)*cos(theta2))*cos(theta3) - (sin(theta1)*cos(theta2) + sin(theta2)*cos(theta1))*sin(theta3))*sin(theta4))*sin(theta5))*sin(theta6)\n"
          ]
        }
      ]
    },
    {
      "cell_type": "code",
      "source": [
        "#defición en espacion\n",
        "\n",
        "# Acessando os termos de translação de T\n",
        "x = T[0, 3]\n",
        "y = T[1, 3]\n",
        "\n",
        "# Substituindo os valores numéricos\n",
        "x = x.subs([(l1, 100), (l2, 100), (l3, 100), (l4, 100), (l5, 100), (l6, 100),\n",
        "            (theta1, 0.0), (theta2, 0.0), (theta3, 0.0), (theta4, 0.0), (theta5, 0.0), (theta6, 0.0)])\n",
        "\n",
        "y = y.subs([(l1, 100), (l2, 100), (l3, 100), (l4, 100), (l5, 100), (l6, 100),\n",
        "            (theta1, 0.0), (theta2, 0.0), (theta3, 0.0), (theta4, 0.0), (theta5, 0.0), (theta6, 0.0)])\n",
        "\n",
        "print(\"Posição final x:\", x)\n",
        "print(\"Posição final y:\", y)"
      ],
      "metadata": {
        "colab": {
          "base_uri": "https://localhost:8080/"
        },
        "outputId": "67952cee-6267-4a78-ac54-f891e870772d",
        "id": "PMsspXUmtCFG"
      },
      "execution_count": 3,
      "outputs": [
        {
          "output_type": "stream",
          "name": "stdout",
          "text": [
            "Posição final x: 600\n",
            "Posição final y: 0\n"
          ]
        }
      ]
    },
    {
      "cell_type": "code",
      "source": [
        "#matriz Jacobiana\n",
        "\n",
        "x = T[3]\n",
        "y = T[7]\n",
        "\n",
        "a00 = simplify(diff(x, theta1)) #terminos de la matriz\n",
        "a01 = simplify(diff(x, theta2))\n",
        "a02 = simplify(diff(x, theta3))\n",
        "a03 = simplify(diff(x, theta4))\n",
        "a04 = simplify(diff(x, theta5))\n",
        "a05 = simplify(diff(x, theta6))\n",
        "\n",
        "a10 = simplify(diff(y, theta1))\n",
        "a11 = simplify(diff(y, theta2))\n",
        "a12 = simplify(diff(y, theta3))\n",
        "a13 = simplify(diff(y, theta4))\n",
        "a14 = simplify(diff(y, theta5))\n",
        "a15 = simplify(diff(y, theta6))\n",
        "\n",
        "Jacobs_generic = [ [a00,a01,a02,a03,a04,a05],\n",
        "                   [a10,a11,a12,a13,a14,a15]\n",
        "]\n",
        "\n",
        "print(Jacobs_generic[0][0])\n",
        "print(Jacobs_generic[0][1])\n",
        "print(Jacobs_generic[0][2])\n",
        "print(Jacobs_generic[0][3])\n",
        "print(Jacobs_generic[0][4])\n",
        "print(Jacobs_generic[0][5])\n",
        "print(Jacobs_generic[1][0])\n",
        "print(Jacobs_generic[1][1])\n",
        "print(Jacobs_generic[1][2])\n",
        "print(Jacobs_generic[1][3])\n",
        "print(Jacobs_generic[1][4])\n",
        "print(Jacobs_generic[1][5])"
      ],
      "metadata": {
        "colab": {
          "base_uri": "https://localhost:8080/"
        },
        "outputId": "e23c7c8b-4631-4f85-f661-0928437e0f89",
        "id": "bXnZ7vlOtCFH"
      },
      "execution_count": 4,
      "outputs": [
        {
          "output_type": "stream",
          "name": "stdout",
          "text": [
            "-l1*sin(theta1) - l2*sin(theta1)*cos(theta2) - l2*sin(theta2)*cos(theta1) - l3*sin(theta3)*cos(theta1 + theta2) - l3*sin(theta1 + theta2)*cos(theta3) - l4*sin(theta4)*cos(theta1 + theta2 + theta3) - l4*sin(theta1 + theta2 + theta3)*cos(theta4) - l5*sin(theta5)*cos(theta1 + theta2 + theta3 + theta4) - l5*sin(theta1 + theta2 + theta3 + theta4)*cos(theta5) - l6*sin(theta6)*cos(theta1 + theta2 + theta3 + theta4 + theta5) - l6*sin(theta1 + theta2 + theta3 + theta4 + theta5)*cos(theta6)\n",
            "-l2*sin(theta1)*cos(theta2) - l2*sin(theta2)*cos(theta1) - l3*sin(theta3)*cos(theta1 + theta2) - l3*sin(theta1 + theta2)*cos(theta3) - l4*sin(theta4)*cos(theta1 + theta2 + theta3) - l4*sin(theta1 + theta2 + theta3)*cos(theta4) - l5*sin(theta5)*cos(theta1 + theta2 + theta3 + theta4) - l5*sin(theta1 + theta2 + theta3 + theta4)*cos(theta5) - l6*sin(theta6)*cos(theta1 + theta2 + theta3 + theta4 + theta5) - l6*sin(theta1 + theta2 + theta3 + theta4 + theta5)*cos(theta6)\n",
            "-l3*sin(theta3)*cos(theta1 + theta2) - l3*sin(theta1 + theta2)*cos(theta3) - l4*sin(theta4)*cos(theta1 + theta2 + theta3) - l4*sin(theta1 + theta2 + theta3)*cos(theta4) - l5*sin(theta5)*cos(theta1 + theta2 + theta3 + theta4) - l5*sin(theta1 + theta2 + theta3 + theta4)*cos(theta5) - l6*sin(theta6)*cos(theta1 + theta2 + theta3 + theta4 + theta5) - l6*sin(theta1 + theta2 + theta3 + theta4 + theta5)*cos(theta6)\n",
            "-l4*sin(theta4)*cos(theta1 + theta2 + theta3) - l4*sin(theta1 + theta2 + theta3)*cos(theta4) - l5*sin(theta5)*cos(theta1 + theta2 + theta3 + theta4) - l5*sin(theta1 + theta2 + theta3 + theta4)*cos(theta5) - l6*sin(theta6)*cos(theta1 + theta2 + theta3 + theta4 + theta5) - l6*sin(theta1 + theta2 + theta3 + theta4 + theta5)*cos(theta6)\n",
            "-l5*sin(theta5)*cos(theta1 + theta2 + theta3 + theta4) - l5*sin(theta1 + theta2 + theta3 + theta4)*cos(theta5) - l6*sin(theta6)*cos(theta1 + theta2 + theta3 + theta4 + theta5) - l6*sin(theta1 + theta2 + theta3 + theta4 + theta5)*cos(theta6)\n",
            "-l6*sin(theta1 + theta2 + theta3 + theta4 + theta5 + theta6)\n",
            "l1*cos(theta1) - l2*sin(theta1)*sin(theta2) + l2*cos(theta1)*cos(theta2) - l3*sin(theta3)*sin(theta1 + theta2) + l3*cos(theta3)*cos(theta1 + theta2) - l4*sin(theta4)*sin(theta1 + theta2 + theta3) + l4*cos(theta4)*cos(theta1 + theta2 + theta3) - l5*sin(theta5)*sin(theta1 + theta2 + theta3 + theta4) + l5*cos(theta5)*cos(theta1 + theta2 + theta3 + theta4) - l6*sin(theta6)*sin(theta1 + theta2 + theta3 + theta4 + theta5) + l6*cos(theta6)*cos(theta1 + theta2 + theta3 + theta4 + theta5)\n",
            "-l2*sin(theta1)*sin(theta2) + l2*cos(theta1)*cos(theta2) - l3*sin(theta3)*sin(theta1 + theta2) + l3*cos(theta3)*cos(theta1 + theta2) - l4*sin(theta4)*sin(theta1 + theta2 + theta3) + l4*cos(theta4)*cos(theta1 + theta2 + theta3) - l5*sin(theta5)*sin(theta1 + theta2 + theta3 + theta4) + l5*cos(theta5)*cos(theta1 + theta2 + theta3 + theta4) - l6*sin(theta6)*sin(theta1 + theta2 + theta3 + theta4 + theta5) + l6*cos(theta6)*cos(theta1 + theta2 + theta3 + theta4 + theta5)\n",
            "-l3*sin(theta3)*sin(theta1 + theta2) + l3*cos(theta3)*cos(theta1 + theta2) - l4*sin(theta4)*sin(theta1 + theta2 + theta3) + l4*cos(theta4)*cos(theta1 + theta2 + theta3) - l5*sin(theta5)*sin(theta1 + theta2 + theta3 + theta4) + l5*cos(theta5)*cos(theta1 + theta2 + theta3 + theta4) - l6*sin(theta6)*sin(theta1 + theta2 + theta3 + theta4 + theta5) + l6*cos(theta6)*cos(theta1 + theta2 + theta3 + theta4 + theta5)\n",
            "-l4*sin(theta4)*sin(theta1 + theta2 + theta3) + l4*cos(theta4)*cos(theta1 + theta2 + theta3) - l5*sin(theta5)*sin(theta1 + theta2 + theta3 + theta4) + l5*cos(theta5)*cos(theta1 + theta2 + theta3 + theta4) - l6*sin(theta6)*sin(theta1 + theta2 + theta3 + theta4 + theta5) + l6*cos(theta6)*cos(theta1 + theta2 + theta3 + theta4 + theta5)\n",
            "-l5*sin(theta5)*sin(theta1 + theta2 + theta3 + theta4) + l5*cos(theta5)*cos(theta1 + theta2 + theta3 + theta4) - l6*sin(theta6)*sin(theta1 + theta2 + theta3 + theta4 + theta5) + l6*cos(theta6)*cos(theta1 + theta2 + theta3 + theta4 + theta5)\n",
            "l6*cos(theta1 + theta2 + theta3 + theta4 + theta5 + theta6)\n"
          ]
        }
      ]
    },
    {
      "cell_type": "code",
      "source": [
        "#funcion de substituición / calculando jacobiana\n",
        "\n",
        "def calc_jacobian(Jacobs, theta1_desired, theta2_desired, theta3_desired, theta4_desired, theta5_desired, theta6_desired, l1_value, l2_value, l3_value, l4_value, l5_value, l6_value):\n",
        "  Jacobs [0][0] = Jacobs [0][0].subs(theta1, theta1_desired)\n",
        "  Jacobs [0][1] = Jacobs [0][1].subs(theta1, theta1_desired)\n",
        "  Jacobs [0][2] = Jacobs [0][2].subs(theta1, theta1_desired)\n",
        "  Jacobs [0][3] = Jacobs [0][3].subs(theta1, theta1_desired)\n",
        "  Jacobs [0][4] = Jacobs [0][4].subs(theta1, theta1_desired)\n",
        "  Jacobs [0][5] = Jacobs [0][5].subs(theta1, theta1_desired)\n",
        "  Jacobs [1][0] = Jacobs [1][0].subs(theta1, theta1_desired)\n",
        "  Jacobs [1][1] = Jacobs [1][1].subs(theta1, theta1_desired)\n",
        "  Jacobs [1][2] = Jacobs [1][2].subs(theta1, theta1_desired)\n",
        "  Jacobs [1][3] = Jacobs [1][3].subs(theta1, theta1_desired)\n",
        "  Jacobs [1][4] = Jacobs [1][4].subs(theta1, theta1_desired)\n",
        "  Jacobs [1][5] = Jacobs [1][5].subs(theta1, theta1_desired)\n",
        "\n",
        "  Jacobs [0][0] = Jacobs [0][0].subs(theta2, theta2_desired)\n",
        "  Jacobs [0][1] = Jacobs [0][1].subs(theta2, theta2_desired)\n",
        "  Jacobs [0][2] = Jacobs [0][2].subs(theta2, theta2_desired)\n",
        "  Jacobs [0][3] = Jacobs [0][3].subs(theta2, theta2_desired)\n",
        "  Jacobs [0][4] = Jacobs [0][4].subs(theta2, theta2_desired)\n",
        "  Jacobs [0][5] = Jacobs [0][5].subs(theta2, theta2_desired)\n",
        "  Jacobs [1][0] = Jacobs [1][0].subs(theta2, theta2_desired)\n",
        "  Jacobs [1][1] = Jacobs [1][1].subs(theta2, theta2_desired)\n",
        "  Jacobs [1][2] = Jacobs [1][2].subs(theta2, theta2_desired)\n",
        "  Jacobs [1][3] = Jacobs [1][3].subs(theta2, theta2_desired)\n",
        "  Jacobs [1][4] = Jacobs [1][4].subs(theta2, theta2_desired)\n",
        "  Jacobs [1][5] = Jacobs [1][5].subs(theta2, theta2_desired)\n",
        "\n",
        "  Jacobs [0][0] = Jacobs [0][0].subs(theta3, theta3_desired)\n",
        "  Jacobs [0][1] = Jacobs [0][1].subs(theta3, theta3_desired)\n",
        "  Jacobs [0][2] = Jacobs [0][2].subs(theta3, theta3_desired)\n",
        "  Jacobs [0][3] = Jacobs [0][3].subs(theta3, theta3_desired)\n",
        "  Jacobs [0][4] = Jacobs [0][4].subs(theta3, theta3_desired)\n",
        "  Jacobs [0][5] = Jacobs [0][5].subs(theta3, theta3_desired)\n",
        "  Jacobs [1][0] = Jacobs [1][0].subs(theta3, theta3_desired)\n",
        "  Jacobs [1][1] = Jacobs [1][1].subs(theta3, theta3_desired)\n",
        "  Jacobs [1][2] = Jacobs [1][2].subs(theta3, theta3_desired)\n",
        "  Jacobs [1][3] = Jacobs [1][3].subs(theta3, theta3_desired)\n",
        "  Jacobs [1][4] = Jacobs [1][4].subs(theta3, theta3_desired)\n",
        "  Jacobs [1][5] = Jacobs [1][5].subs(theta3, theta3_desired)\n",
        "\n",
        "  Jacobs [0][0] = Jacobs [0][0].subs(theta4, theta4_desired)\n",
        "  Jacobs [0][1] = Jacobs [0][1].subs(theta4, theta4_desired)\n",
        "  Jacobs [0][2] = Jacobs [0][2].subs(theta4, theta4_desired)\n",
        "  Jacobs [0][3] = Jacobs [0][3].subs(theta4, theta4_desired)\n",
        "  Jacobs [0][4] = Jacobs [0][4].subs(theta4, theta4_desired)\n",
        "  Jacobs [0][5] = Jacobs [0][5].subs(theta4, theta4_desired)\n",
        "  Jacobs [1][0] = Jacobs [1][0].subs(theta4, theta4_desired)\n",
        "  Jacobs [1][1] = Jacobs [1][1].subs(theta4, theta4_desired)\n",
        "  Jacobs [1][2] = Jacobs [1][2].subs(theta4, theta4_desired)\n",
        "  Jacobs [1][3] = Jacobs [1][3].subs(theta4, theta4_desired)\n",
        "  Jacobs [1][4] = Jacobs [1][4].subs(theta4, theta4_desired)\n",
        "  Jacobs [1][5] = Jacobs [1][5].subs(theta4, theta4_desired)\n",
        "\n",
        "  Jacobs [0][0] = Jacobs [0][0].subs(theta5, theta5_desired)\n",
        "  Jacobs [0][1] = Jacobs [0][1].subs(theta5, theta5_desired)\n",
        "  Jacobs [0][2] = Jacobs [0][2].subs(theta5, theta5_desired)\n",
        "  Jacobs [0][3] = Jacobs [0][3].subs(theta5, theta5_desired)\n",
        "  Jacobs [0][4] = Jacobs [0][4].subs(theta5, theta5_desired)\n",
        "  Jacobs [0][5] = Jacobs [0][5].subs(theta5, theta5_desired)\n",
        "  Jacobs [1][0] = Jacobs [1][0].subs(theta5, theta5_desired)\n",
        "  Jacobs [1][1] = Jacobs [1][1].subs(theta5, theta5_desired)\n",
        "  Jacobs [1][2] = Jacobs [1][2].subs(theta5, theta5_desired)\n",
        "  Jacobs [1][3] = Jacobs [1][3].subs(theta5, theta5_desired)\n",
        "  Jacobs [1][4] = Jacobs [1][4].subs(theta5, theta5_desired)\n",
        "  Jacobs [1][5] = Jacobs [1][5].subs(theta5, theta5_desired)\n",
        "\n",
        "  Jacobs [0][0] = Jacobs [0][0].subs(theta6, theta6_desired)\n",
        "  Jacobs [0][1] = Jacobs [0][1].subs(theta6, theta6_desired)\n",
        "  Jacobs [0][2] = Jacobs [0][2].subs(theta6, theta6_desired)\n",
        "  Jacobs [0][3] = Jacobs [0][3].subs(theta6, theta6_desired)\n",
        "  Jacobs [0][4] = Jacobs [0][4].subs(theta6, theta6_desired)\n",
        "  Jacobs [0][5] = Jacobs [0][5].subs(theta6, theta6_desired)\n",
        "  Jacobs [1][0] = Jacobs [1][0].subs(theta6, theta6_desired)\n",
        "  Jacobs [1][1] = Jacobs [1][1].subs(theta6, theta6_desired)\n",
        "  Jacobs [1][2] = Jacobs [1][2].subs(theta6, theta6_desired)\n",
        "  Jacobs [1][3] = Jacobs [1][3].subs(theta6, theta6_desired)\n",
        "  Jacobs [1][4] = Jacobs [1][4].subs(theta6, theta6_desired)\n",
        "  Jacobs [1][5] = Jacobs [1][5].subs(theta6, theta6_desired)\n",
        "\n",
        "  Jacobs [0][0] = Jacobs [0][0].subs(l1, l1_value)\n",
        "  Jacobs [0][1] = Jacobs [0][1].subs(l1, l1_value)\n",
        "  Jacobs [0][2] = Jacobs [0][2].subs(l1, l1_value)\n",
        "  Jacobs [0][3] = Jacobs [0][3].subs(l1, l1_value)\n",
        "  Jacobs [0][4] = Jacobs [0][4].subs(l1, l1_value)\n",
        "  Jacobs [0][5] = Jacobs [0][5].subs(l1, l1_value)\n",
        "  Jacobs [1][0] = Jacobs [1][0].subs(l1, l1_value)\n",
        "  Jacobs [1][1] = Jacobs [1][1].subs(l1, l1_value)\n",
        "  Jacobs [1][2] = Jacobs [1][2].subs(l1, l1_value)\n",
        "  Jacobs [1][3] = Jacobs [1][3].subs(l1, l1_value)\n",
        "  Jacobs [1][4] = Jacobs [1][4].subs(l1, l1_value)\n",
        "  Jacobs [1][5] = Jacobs [1][5].subs(l1, l1_value)\n",
        "\n",
        "  Jacobs [0][0] = Jacobs [0][0].subs(l2, l2_value)\n",
        "  Jacobs [0][1] = Jacobs [0][1].subs(l2, l2_value)\n",
        "  Jacobs [0][2] = Jacobs [0][2].subs(l2, l2_value)\n",
        "  Jacobs [0][3] = Jacobs [0][3].subs(l2, l2_value)\n",
        "  Jacobs [0][4] = Jacobs [0][4].subs(l2, l2_value)\n",
        "  Jacobs [0][5] = Jacobs [0][5].subs(l2, l2_value)\n",
        "  Jacobs [1][0] = Jacobs [1][0].subs(l2, l2_value)\n",
        "  Jacobs [1][1] = Jacobs [1][1].subs(l2, l2_value)\n",
        "  Jacobs [1][2] = Jacobs [1][2].subs(l2, l2_value)\n",
        "  Jacobs [1][3] = Jacobs [1][3].subs(l2, l2_value)\n",
        "  Jacobs [1][4] = Jacobs [1][4].subs(l2, l2_value)\n",
        "  Jacobs [1][5] = Jacobs [1][5].subs(l2, l2_value)\n",
        "\n",
        "  Jacobs [0][0] = Jacobs [0][0].subs(l3, l3_value)\n",
        "  Jacobs [0][1] = Jacobs [0][1].subs(l3, l3_value)\n",
        "  Jacobs [0][2] = Jacobs [0][2].subs(l3, l3_value)\n",
        "  Jacobs [0][3] = Jacobs [0][3].subs(l3, l3_value)\n",
        "  Jacobs [0][4] = Jacobs [0][4].subs(l3, l3_value)\n",
        "  Jacobs [0][5] = Jacobs [0][5].subs(l3, l3_value)\n",
        "  Jacobs [1][0] = Jacobs [1][0].subs(l3, l3_value)\n",
        "  Jacobs [1][1] = Jacobs [1][1].subs(l3, l3_value)\n",
        "  Jacobs [1][2] = Jacobs [1][2].subs(l3, l3_value)\n",
        "  Jacobs [1][3] = Jacobs [1][3].subs(l3, l3_value)\n",
        "  Jacobs [1][4] = Jacobs [1][4].subs(l3, l3_value)\n",
        "  Jacobs [1][5] = Jacobs [1][5].subs(l3, l3_value)\n",
        "\n",
        "  Jacobs [0][0] = Jacobs [0][0].subs(l4, l4_value)\n",
        "  Jacobs [0][1] = Jacobs [0][1].subs(l4, l4_value)\n",
        "  Jacobs [0][2] = Jacobs [0][2].subs(l4, l4_value)\n",
        "  Jacobs [0][3] = Jacobs [0][3].subs(l4, l4_value)\n",
        "  Jacobs [0][4] = Jacobs [0][4].subs(l4, l4_value)\n",
        "  Jacobs [0][5] = Jacobs [0][5].subs(l4, l4_value)\n",
        "  Jacobs [1][0] = Jacobs [1][0].subs(l4, l4_value)\n",
        "  Jacobs [1][1] = Jacobs [1][1].subs(l4, l4_value)\n",
        "  Jacobs [1][2] = Jacobs [1][2].subs(l4, l4_value)\n",
        "  Jacobs [1][3] = Jacobs [1][3].subs(l4, l4_value)\n",
        "  Jacobs [1][4] = Jacobs [1][4].subs(l4, l4_value)\n",
        "  Jacobs [1][5] = Jacobs [1][5].subs(l4, l4_value)\n",
        "\n",
        "  Jacobs [0][0] = Jacobs [0][0].subs(l5, l5_value)\n",
        "  Jacobs [0][1] = Jacobs [0][1].subs(l5, l5_value)\n",
        "  Jacobs [0][2] = Jacobs [0][2].subs(l5, l5_value)\n",
        "  Jacobs [0][3] = Jacobs [0][3].subs(l5, l5_value)\n",
        "  Jacobs [0][4] = Jacobs [0][4].subs(l5, l5_value)\n",
        "  Jacobs [0][5] = Jacobs [0][5].subs(l5, l5_value)\n",
        "  Jacobs [1][0] = Jacobs [1][0].subs(l5, l5_value)\n",
        "  Jacobs [1][1] = Jacobs [1][1].subs(l5, l5_value)\n",
        "  Jacobs [1][2] = Jacobs [1][2].subs(l5, l5_value)\n",
        "  Jacobs [1][3] = Jacobs [1][3].subs(l5, l5_value)\n",
        "  Jacobs [1][4] = Jacobs [1][4].subs(l5, l5_value)\n",
        "  Jacobs [1][5] = Jacobs [1][5].subs(l5, l5_value)\n",
        "\n",
        "  Jacobs [0][0] = Jacobs [0][0].subs(l6, l6_value)\n",
        "  Jacobs [0][1] = Jacobs [0][1].subs(l6, l6_value)\n",
        "  Jacobs [0][2] = Jacobs [0][2].subs(l6, l6_value)\n",
        "  Jacobs [0][3] = Jacobs [0][3].subs(l6, l6_value)\n",
        "  Jacobs [0][4] = Jacobs [0][4].subs(l6, l6_value)\n",
        "  Jacobs [0][5] = Jacobs [0][5].subs(l6, l6_value)\n",
        "  Jacobs [1][0] = Jacobs [1][0].subs(l6, l6_value)\n",
        "  Jacobs [1][1] = Jacobs [1][1].subs(l6, l6_value)\n",
        "  Jacobs [1][2] = Jacobs [1][2].subs(l6, l6_value)\n",
        "  Jacobs [1][3] = Jacobs [1][3].subs(l6, l6_value)\n",
        "  Jacobs [1][4] = Jacobs [1][4].subs(l6, l6_value)\n",
        "  Jacobs [1][5] = Jacobs [1][5].subs(l6, l6_value)\n",
        "\n",
        "  return np.asarray(Jacobs, dtype =\"float\") #casting\n",
        "\n",
        "Jacobs_test = Jacobs_generic\n",
        "\n",
        "print(calc_jacobian(Jacobs_test, 0.0, math.radians(90), 0.0, 0.0, 0.0, 0.0, 100, 100, 100, 100, 100, 100))"
      ],
      "metadata": {
        "colab": {
          "base_uri": "https://localhost:8080/"
        },
        "outputId": "b0af0bcc-490f-4825-922e-b8409f418221",
        "id": "gSzAAE0otCFH"
      },
      "execution_count": 5,
      "outputs": [
        {
          "output_type": "stream",
          "name": "stdout",
          "text": [
            "[[-500. -500. -400. -300. -200. -100.]\n",
            " [ 100.    0.    0.    0.    0.    0.]]\n"
          ]
        }
      ]
    },
    {
      "cell_type": "code",
      "source": [
        "#invertiendo matriz\n",
        "\n",
        "angles = np.array([0.0, math.radians(90), 0.0, 0.0, 0.0, 0.0])\n",
        "\n",
        "# Added the missing arguments for lengths l1 to l6 with a value of 100.0 for each\n",
        "J = calc_jacobian(Jacobs_test, angles[0], angles[1], angles[2], angles[3], angles[4], angles[5], 100.0, 100.0, 100.0, 100.0, 100.0, 100.0)\n",
        "\n",
        "#Jacobs_inv = np.linalg.inv(J)     # inversa\n",
        "Jacobs_inv = np.linalg.pinv(J)     # pseudo inversa\n",
        "\n",
        "print(Jacobs_inv)"
      ],
      "metadata": {
        "colab": {
          "base_uri": "https://localhost:8080/"
        },
        "outputId": "5d77d617-2837-4b29-dcb2-5657f1f80529",
        "id": "yFYPvRQdtCFI"
      },
      "execution_count": 6,
      "outputs": [
        {
          "output_type": "stream",
          "name": "stdout",
          "text": [
            "[[ 0.          0.01      ]\n",
            " [-0.00090909 -0.00454545]\n",
            " [-0.00072727 -0.00363636]\n",
            " [-0.00054545 -0.00272727]\n",
            " [-0.00036364 -0.00181818]\n",
            " [-0.00018182 -0.00090909]]\n"
          ]
        }
      ]
    },
    {
      "cell_type": "code",
      "source": [
        "#multiplicando por variación en el espacio\n",
        "\n",
        "delta_cartesian = np.array([5.0, 0.0])\n",
        "\n",
        "delta_angles = Jacobs_inv.dot(delta_cartesian)\n",
        "\n",
        "print(delta_angles)\n",
        "\n",
        "#sumando por variación\n",
        "\n",
        "angles = angles + delta_angles\n",
        "\n",
        "print(angles)\n"
      ],
      "metadata": {
        "colab": {
          "base_uri": "https://localhost:8080/"
        },
        "outputId": "c4a9812a-db1d-475f-b4ca-d18e2fd47a1c",
        "id": "ks169uj-tCFJ"
      },
      "execution_count": 7,
      "outputs": [
        {
          "output_type": "stream",
          "name": "stdout",
          "text": [
            "[ 0.         -0.00454545 -0.00363636 -0.00272727 -0.00181818 -0.00090909]\n",
            "[ 0.          1.56625087 -0.00363636 -0.00272727 -0.00181818 -0.00090909]\n"
          ]
        }
      ]
    }
  ]
}